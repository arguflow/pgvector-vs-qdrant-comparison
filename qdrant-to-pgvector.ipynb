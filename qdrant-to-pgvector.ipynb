{
 "cells": [
  {
   "cell_type": "markdown",
   "metadata": {},
   "source": [
    "<p align=\"center\">\n",
    "  <img height=\"100\" src=\"https://raw.githubusercontent.com/arguflow/blog/5ef439020707b0e27bf901c8f6b4fb1f487a78d4/apps/frontend/public/assets/horizontal-logo.svg\" alt=\"Arguflow\">\n",
    "</p>\n",
    "\n",
    "<p align=\"center\">\n",
    "    <b>Offering a product suite for putting arbitrary models into production semantic search and retrieval-augmented LLM-chat experiences on your company's data</b>\n",
    "</p>\n",
    "\n",
    "<p align=\"center\">\n",
    "<strong><a href=\"https://docs.arguflow.ai\">Documentation</a> • <a href=\"https://search.arguflow.ai\">Competitive Debate Search Demo</a> • <a href=\"https://chat.arguflow.ai\">Competitive Debate Chat Demo</a> • <a href=\"https://discord.gg/CuJVfgZf54\">Discord</a>\n",
    "\n",
    "</strong>\n",
    "</p>\n"
   ]
  },
  {
   "cell_type": "markdown",
   "metadata": {},
   "source": [
    "# Exploring replacing our SVD (qdrant) with Pgvector\n",
    "\n",
    "The objective behind this notebook was to assess the feasibility of substituting our system's SVD, [Qdrant](https://qdrant.tech/), with [PGVector](https://github.com/pgvector/pgvector). Employing PGVector would offer the advantage of utilizing a transactional database with schema and transaction support, thereby eliminating the need for external database joins during diverse search operations.\n",
    "\n",
    "## Findings\n",
    "\n",
    "The key takeaway here is that we are strategically developing our systems to facilitate seamless replacement of the underlying vector store. Anticipating the uncertain trajectory of vector store solutions, we're exercising caution and refraining from fully committing to any particular data store solution at this point.\n",
    "\n",
    "For now, we will stick to [Qdrant](https://qdrant.tech/) for our competitive debate demos as [Clickhouse](https://clickhouse.com/)'s [annoy index](https://clickhouse.com/docs/en/engines/table-engines/mergetree-family/annindexes) is too imprecise to be viable.\n",
    "\n",
    "However, it is important to note that Clickhouse wins out on pure speed and can be the right choice for datasets characterized by substantial sparsity or considerable size. We may use Clickhouse for future customer deployments when it makes sense to do so.\n",
    "\n",
    "### Replicating our results\n",
    "\n",
    "1. Download the dataset via [this link](https://drive.proton.me/urls/FED1ABWG70#ItjHZqiPpUao). This is roughly the [DebateSum dataset](https://aclanthology.org/2020.argmining-1.1/), but with some improved parsing loggic and dedup detection as noted on [our docs](https://docs.arguflow.ai).\n",
    "2. Place the dataset into the same directory as this notebook\n",
    "3. `docker compose up -d`\n",
    "4. `cat .env.dist > .env`\n",
    "4. Run all to duplicate our findings"
   ]
  },
  {
   "cell_type": "code",
   "execution_count": 2,
   "metadata": {},
   "outputs": [
    {
     "name": "stderr",
     "output_type": "stream",
     "text": [
      "/home/skeptrune/git_projects/arguflow/pgvector-vs-qdrant-comparison/.venv/lib/python3.10/site-packages/qdrant_client/qdrant_remote.py:115: UserWarning: Api key is used with unsecure connection.\n",
      "  warnings.warn(\"Api key is used with unsecure connection.\")\n"
     ]
    }
   ],
   "source": [
    "import os\n",
    "from dotenv import load_dotenv\n",
    "from qdrant_client import QdrantClient\n",
    "from qdrant_client.http import models\n",
    "\n",
    "# Load values from the .env file\n",
    "load_dotenv()\n",
    "\n",
    "# Get values from the environment variables\n",
    "qdrant_url = os.getenv(\"QDRANT_URL\")\n",
    "qdrant_api_key = os.getenv(\"QDRANT_API_KEY\")\n",
    "\n",
    "# Create the QdrantClient instance\n",
    "qdrant_client = QdrantClient(\n",
    "    url=qdrant_url,\n",
    "    api_key=qdrant_api_key,\n",
    ")\n",
    "\n",
    "# qdrant_client.recreate_collection(\n",
    "#     collection_name=\"debate_cards\",\n",
    "#     vectors_config=models.VectorParams(size=1536, distance=models.Distance.COSINE),\n",
    "# )"
   ]
  },
  {
   "cell_type": "code",
   "execution_count": 13,
   "metadata": {},
   "outputs": [],
   "source": [
    "import pickle\n",
    "\n",
    "# Load the dataset from the pickle file\n",
    "pickle_filename = \"dataset.pickle\"\n",
    "with open(pickle_filename, \"rb\") as pickle_file:\n",
    "    loaded_dataset = pickle.load(pickle_file)\n"
   ]
  },
  {
   "cell_type": "code",
   "execution_count": 3,
   "metadata": {},
   "outputs": [
    {
     "name": "stdout",
     "output_type": "stream",
     "text": [
      "Collection is not empty, exiting\n"
     ]
    },
    {
     "data": {
      "text/plain": [
       "CountResult(count=255070)"
      ]
     },
     "execution_count": 3,
     "metadata": {},
     "output_type": "execute_result"
    }
   ],
   "source": [
    "qdrant_count = qdrant_client.count(\n",
    "    collection_name=\"debate_cards\",\n",
    "    exact=True,\n",
    ")\n",
    "\n",
    "if qdrant_count.count > 0:\n",
    "    print(\"Collection is not empty, exiting\")\n",
    "else:\n",
    "    # add to qdrant 1k at a time\n",
    "    for i in range(0, len(loaded_dataset), 1000):\n",
    "        qdrant_client.upsert(\n",
    "            collection_name=\"debate_cards\",\n",
    "            points=models.Batch(\n",
    "                ids=[item[0] for item in loaded_dataset[i:i+1000]],\n",
    "                vectors=[item[1] for item in loaded_dataset[i:i+1000]]\n",
    "            ),\n",
    "        )\n",
    "\n",
    "qdrant_client.count(\n",
    "    collection_name=\"debate_cards\",\n",
    "    exact=True,\n",
    ")"
   ]
  },
  {
   "cell_type": "code",
   "execution_count": 60,
   "metadata": {},
   "outputs": [
    {
     "name": "stdout",
     "output_type": "stream",
     "text": [
      "PostgreSQL Server Version: PostgreSQL 15.4 (Debian 15.4-1.pgdg120+1) on x86_64-pc-linux-gnu, compiled by gcc (Debian 12.2.0-14) 12.2.0, 64-bit\n"
     ]
    }
   ],
   "source": [
    "import psycopg2\n",
    "\n",
    "db_url = os.getenv(\"POSTGRES_URL\")\n",
    "\n",
    "connection = psycopg2.connect(db_url)\n",
    "cursor = connection.cursor()\n",
    "cursor.execute(\"SELECT version()\")\n",
    "server_version = cursor.fetchone()[0]\n",
    "\n",
    "print(f\"PostgreSQL Server Version: {server_version}\")"
   ]
  },
  {
   "cell_type": "code",
   "execution_count": 51,
   "metadata": {},
   "outputs": [],
   "source": [
    "# cursor.execute(\"CREATE EXTENSION vector;\")\n",
    "\n",
    "cursor.execute(\"set enable_seqscan = false;\")\n",
    "connection.commit()"
   ]
  },
  {
   "cell_type": "code",
   "execution_count": 9,
   "metadata": {},
   "outputs": [],
   "source": [
    "delete_table_query = \"\"\"\n",
    "DROP TABLE IF EXISTS qdrant_vectors;\n",
    "\"\"\"\n",
    "cursor.execute(delete_table_query)\n",
    "\n",
    "create_table_query = \"\"\"\n",
    "CREATE TABLE IF NOT EXISTS qdrant_vectors\n",
    "(\n",
    "    point_id TEXT PRIMARY KEY,\n",
    "    embedding vector(1536)\n",
    ");\n",
    "\"\"\"\n",
    "cursor.execute(create_table_query)\n",
    "\n",
    "add_hnsw_index_query = \"\"\"\n",
    "CREATE INDEX on qdrant_vectors USING hnsw (embedding vector_cosine_ops) WITH (m=16, ef_construction=64);\n",
    "\"\"\"\n",
    "cursor.execute(add_hnsw_index_query)\n",
    "\n",
    "connection.commit()\n",
    "\n",
    "offset = \"\"\n",
    "\n",
    "while offset is not None:\n",
    "    scroll_result = qdrant_client.scroll(\n",
    "        collection_name=\"debate_cards\",\n",
    "        limit=1,\n",
    "        with_vectors=True,\n",
    "        offset=(offset if offset else None),\n",
    "    )\n",
    "\n",
    "    offset = scroll_result[1]\n",
    "\n",
    "    if scroll_result[0]:  # Check if there are points to insert\n",
    "        insert_found_points_query = \"\"\"\n",
    "            INSERT INTO qdrant_vectors (point_id, embedding)\n",
    "            VALUES\n",
    "        \"\"\"\n",
    "\n",
    "        values = []\n",
    "        for point in scroll_result[0]:\n",
    "            values.append((point.id, point.vector))\n",
    "\n",
    "        placeholders = \",\".join([\"(%s, %s)\"] * len(values))\n",
    "        insert_found_points_query += placeholders\n",
    "\n",
    "        cursor.execute(insert_found_points_query, [item for sublist in values for item in sublist])\n",
    "        connection.commit()\n",
    "    \n",
    "    "
   ]
  },
  {
   "cell_type": "code",
   "execution_count": 52,
   "metadata": {},
   "outputs": [
    {
     "name": "stdout",
     "output_type": "stream",
     "text": [
      "Base count: 255070\n"
     ]
    }
   ],
   "source": [
    "import time\n",
    "\n",
    "\n",
    "base_count = 0\n",
    "while base_count != 255070:\n",
    "    get_qdrant_point_ids_count_query = \"\"\"\n",
    "    SELECT COUNT(*)\n",
    "    FROM qdrant_vectors;\n",
    "    \"\"\"\n",
    "    cursor.execute(get_qdrant_point_ids_count_query)\n",
    "    base_count = cursor.fetchone()[0]\n",
    "    print(f\"Base count: {base_count}\")\n",
    "    connection.commit()\n",
    "\n",
    "    time.sleep(1)"
   ]
  },
  {
   "cell_type": "code",
   "execution_count": 12,
   "metadata": {},
   "outputs": [],
   "source": [
    "scroll_result = qdrant_client.scroll(\n",
    "    collection_name=\"debate_cards\",\n",
    "    limit=100,\n",
    "    with_vectors=True,\n",
    ")\n",
    "\n",
    "first_100_qdrant_vectors = [point.vector for point in scroll_result[0]]"
   ]
  },
  {
   "cell_type": "code",
   "execution_count": 57,
   "metadata": {},
   "outputs": [
    {
     "name": "stdout",
     "output_type": "stream",
     "text": [
      "Indices on qdrant_vectors table:\n",
      "qdrant_vectors_pkey\n",
      "qdrant_vectors_embedding_idx\n",
      "qdrant_vectors_embedding_idx1\n"
     ]
    }
   ],
   "source": [
    "index_query = \"\"\"\n",
    "SELECT indexname\n",
    "FROM pg_indexes\n",
    "WHERE tablename = 'qdrant_vectors';\n",
    "\"\"\"\n",
    "cursor.execute(index_query)\n",
    "\n",
    "# Fetch all index names\n",
    "index_names = cursor.fetchall()\n",
    "\n",
    "# Check if there are any indices\n",
    "if index_names:\n",
    "    print(\"Indices on qdrant_vectors table:\")\n",
    "    for index_name in index_names:\n",
    "        print(index_name[0])\n",
    "else:\n",
    "    print(\"No indices found on qdrant_vectors table.\")\n",
    "\n",
    "connection.commit()"
   ]
  },
  {
   "cell_type": "code",
   "execution_count": 76,
   "metadata": {},
   "outputs": [
    {
     "data": {
      "text/plain": [
       "[('00005fed-cfc0-4845-b863-b71550463e24', 1.0),\n",
       " ('180ddd7a-a0af-4c3e-bec5-98fc8cd6d589', 0.9155548760626053),\n",
       " ('03f07aec-4816-49da-b886-c4fedb05d149', 0.9136285391739514),\n",
       " ('6c758916-a2df-4d07-af21-b25f416cbeea', 0.9086524953064392),\n",
       " ('3ee155fa-726f-431d-9f9d-30603b9ab1da', 0.9073011125082691),\n",
       " ('81b834a8-9b0b-48b0-9b49-9f83879be1e1', 0.9071983320240182),\n",
       " ('8f27634e-6a20-474e-b627-8529d475b63e', 0.9068747869879326),\n",
       " ('be4d6633-d730-435c-a66b-8b97275bb2b7', 0.9066022316806834),\n",
       " ('561ae8a9-af13-4a75-a49f-ce5c38c442ce', 0.9061500709801716),\n",
       " ('6af30e7e-4b4a-46f8-a5ac-27c502367b90', 0.9054446389476126)]"
      ]
     },
     "execution_count": 76,
     "metadata": {},
     "output_type": "execute_result"
    }
   ],
   "source": [
    "first_vector = first_100_qdrant_vectors[0]\n",
    "\n",
    "\n",
    "pg_cosine_similarity_query = f\"\"\"\n",
    "        SELECT\n",
    "            point_id,\n",
    "            1 - (embedding <=> '{first_vector}') AS cosine_similarity\n",
    "        FROM qdrant_vectors\n",
    "        ORDER BY embedding <=> '{first_vector}'\n",
    "        LIMIT 10;\n",
    "        \"\"\"\n",
    "\n",
    "# explain the query\n",
    "cursor.execute(\"EXPLAIN ANALYZE\" + pg_cosine_similarity_query)\n",
    "pg_cosine_similarity_explain_result = cursor.fetchall()\n",
    "\n",
    "cursor.execute(pg_cosine_similarity_query)\n",
    "pg_results = pg_cosine_similarity_result = cursor.fetchall()\n",
    "connection.commit()\n",
    "\n",
    "pg_results"
   ]
  },
  {
   "cell_type": "code",
   "execution_count": 77,
   "metadata": {},
   "outputs": [],
   "source": [
    "import numpy as np\n",
    "import timeit\n",
    "\n",
    "qdrant_search_times = []\n",
    "pgvector_search_times = []\n",
    "\n",
    "\n",
    "for i in range(100):\n",
    "    query_vector = np.random.rand(1536).astype(np.float32).tolist()\n",
    "\n",
    "    ch_qdrant_point_id_query = f\"\"\"\n",
    "    SELECT\n",
    "        point_id,\n",
    "        1 - (embedding <=> '{query_vector}') AS cosine_similarity\n",
    "    FROM qdrant_vectors\n",
    "    ORDER BY embedding <=> '{first_vector}'\n",
    "    LIMIT 10;\n",
    "    \"\"\"\n",
    "\n",
    "    def query_pg():\n",
    "        cursor.execute(pg_cosine_similarity_query)\n",
    "        cursor.fetchall()\n",
    "        connection.commit()\n",
    "\n",
    "    pgvector_search_times.append(timeit.timeit(lambda: query_pg(), number=1))\n",
    "\n",
    "    qdrant_search_times.append(timeit.timeit(lambda: qdrant_client.search(collection_name=\"debate_cards\", query_vector=query_vector, limit=10, search_params={\"exact\": True}), number=1))\n",
    "\n",
    "    "
   ]
  },
  {
   "cell_type": "code",
   "execution_count": 78,
   "metadata": {},
   "outputs": [
    {
     "data": {
      "image/png": "[encoded data removed]",
      "text/plain": [
       "<Figure size 640x480 with 1 Axes>"
      ]
     },
     "metadata": {},
     "output_type": "display_data"
    }
   ],
   "source": [
    "# plot the results\n",
    "\n",
    "import matplotlib.pyplot as plt\n",
    "\n",
    "plt.plot(pgvector_search_times, label=\"pgvector HNSW index\")\n",
    "plt.plot(qdrant_search_times, label=\"Qdrant\")\n",
    "\n",
    "plt.xlabel(\"Search number\")\n",
    "plt.ylabel(\"Search time (s)\")\n",
    "plt.legend()\n",
    "plt.show()"
   ]
  },
  {
   "cell_type": "code",
   "execution_count": 79,
   "metadata": {},
   "outputs": [
    {
     "name": "stdout",
     "output_type": "stream",
     "text": [
      "Pgvector HNSW index avg search time: 0.006089581510059361s\n",
      "Pgvector HNSW index max search time: 0.01139762300226721s\n",
      "Pgvector HNSW index min search time: 0.002103237999108387s\n",
      "Qdrant avg search time: 0.12838763809992088s\n",
      "Qdrant max search time: 0.1870610490004765s\n",
      "Qdrant min search time: 0.054102101999887964s\n"
     ]
    }
   ],
   "source": [
    "# Get avg, max, min search time for ClickHouse\n",
    "[pgvector_avg_search_time, pgvector_max_search_time, pgvector_min_search_time] = [np.mean(pgvector_search_times), np.max(pgvector_search_times), np.min(pgvector_search_times)]\n",
    "# Get avg, max, min search time for Qdrant\n",
    "[qdrant_avg_search_time, qdrant_max_search_time, qdrant_min_search_time] = [np.mean(qdrant_search_times), np.max(qdrant_search_times), np.min(qdrant_search_times)]\n",
    "\n",
    "# Display the results\n",
    "print(f\"Pgvector HNSW index avg search time: {pgvector_avg_search_time}s\")\n",
    "print(f\"Pgvector HNSW index max search time: {pgvector_max_search_time}s\")\n",
    "print(f\"Pgvector HNSW index min search time: {pgvector_min_search_time}s\")\n",
    "\n",
    "print(f\"Qdrant avg search time: {qdrant_avg_search_time}s\")\n",
    "print(f\"Qdrant max search time: {qdrant_max_search_time}s\")\n",
    "print(f\"Qdrant min search time: {qdrant_min_search_time}s\")"
   ]
  },
  {
   "cell_type": "code",
   "execution_count": 81,
   "metadata": {},
   "outputs": [],
   "source": [
    "pgvector_results = []\n",
    "qdrant_results = []\n",
    "\n",
    "for i in range(100):\n",
    "    query_vector = first_100_qdrant_vectors[i]\n",
    "\n",
    "    pgvector_hnsw_query = f\"\"\"\n",
    "    SELECT\n",
    "        point_id,\n",
    "        1 - (embedding <=> '{query_vector}') AS cosine_similarity\n",
    "    FROM qdrant_vectors\n",
    "    ORDER BY embedding <=> '{first_vector}'\n",
    "    LIMIT 100;\n",
    "    \"\"\"\n",
    "\n",
    "    cursor.execute(pgvector_hnsw_query)\n",
    "    pg_results = cursor.fetchall()\n",
    "    connection.commit()\n",
    "    pg_hnsw_index_ids = [result[0] for result in pg_results]\n",
    "    pgvector_results.append(pg_hnsw_index_ids)\n",
    "\n",
    "    qdrant_results_temp = qdrant_client.search(collection_name=\"debate_cards\", query_vector=query_vector, limit=10, with_vectors=False, search_params={\"exact\": True})\n",
    "    qdrant_ids = [result.id for result in qdrant_results_temp]\n",
    "    qdrant_results.append(qdrant_ids)\n",
    "\n",
    "    base_ids = []"
   ]
  },
  {
   "cell_type": "code",
   "execution_count": 82,
   "metadata": {},
   "outputs": [
    {
     "name": "stdout",
     "output_type": "stream",
     "text": [
      "Pgvector HNSW index avg shift: 99.0\n",
      "Pgvector HNSW index max shift: 100\n",
      "Pgvector HNSW index min shift: 0\n",
      "Pgvector HNSW index std shift: 9.9498743710662\n"
     ]
    }
   ],
   "source": [
    "pg_hnsw_result_shifts = []\n",
    "\n",
    "qdrant_result_idx = 0\n",
    "for top_10 in qdrant_results:\n",
    "    top_10_idx = 0\n",
    "    for item in top_10:\n",
    "        if item in pgvector_results[qdrant_result_idx]:\n",
    "            index_of_item = pgvector_results[qdrant_result_idx].index(item)\n",
    "            pg_hnsw_result_shifts.append(abs(index_of_item - top_10_idx))\n",
    "        else:\n",
    "            pg_hnsw_result_shifts.append(100)\n",
    "        top_10_idx += 1\n",
    "    qdrant_result_idx += 1\n",
    "\n",
    "print(f\"Pgvector HNSW index avg shift: {np.mean(pg_hnsw_result_shifts)}\")\n",
    "print(f\"Pgvector HNSW index max shift: {np.max(pg_hnsw_result_shifts)}\")\n",
    "print(f\"Pgvector HNSW index min shift: {np.min(pg_hnsw_result_shifts)}\")\n",
    "print(f\"Pgvector HNSW index std shift: {np.std(pg_hnsw_result_shifts)}\")"
   ]
  }
 ],
 "metadata": {
  "kernelspec": {
   "display_name": "Python 3 (ipykernel)",
   "language": "python",
   "name": "python3"
  },
  "language_info": {
   "codemirror_mode": {
    "name": "ipython",
    "version": 3
   },
   "file_extension": ".py",
   "mimetype": "text/x-python",
   "name": "python",
   "nbconvert_exporter": "python",
   "pygments_lexer": "ipython3",
   "version": "3.10.12"
  }
 },
 "nbformat": 4,
 "nbformat_minor": 4
}
