{
 "cells": [
  {
   "cell_type": "markdown",
   "metadata": {},
   "source": [
    "<p align=\"center\">\n",
    "  <img height=\"100\" src=\"https://raw.githubusercontent.com/arguflow/blog/5ef439020707b0e27bf901c8f6b4fb1f487a78d4/apps/frontend/public/assets/horizontal-logo.svg\" alt=\"Arguflow\">\n",
    "</p>\n",
    "\n",
    "<p align=\"center\">\n",
    "    <b>Offering a product suite for putting arbitrary models into production semantic search and retrieval-augmented LLM-chat experiences on your company's data</b>\n",
    "</p>\n",
    "\n",
    "<p align=\"center\">\n",
    "<strong><a href=\"https://docs.arguflow.ai\">Documentation</a> • <a href=\"https://search.arguflow.ai\">Competitive Debate Search Demo</a> • <a href=\"https://chat.arguflow.ai\">Competitive Debate Chat Demo</a> • <a href=\"https://discord.gg/CuJVfgZf54\">Discord</a>\n",
    "\n",
    "</strong>\n",
    "</p>\n"
   ]
  },
  {
   "cell_type": "markdown",
   "metadata": {},
   "source": [
    "# Exploring replacing our SVD (qdrant) with Clickhouse\n",
    "\n",
    "The objective behind this notebook was to assess the feasibility of substituting our system's SVD, [Qdrant](https://qdrant.tech/), with [Clickhouse](https://clickhouse.com/). Employing ClickHouse would offer the advantage of utilizing a comprehensive DBMS, thereby eliminating the need for external database joins during diverse search operations.\n",
    "\n",
    "## Findings\n",
    "\n",
    "The key takeaway here is that we are strategically developing our systems to facilitate seamless replacement of the underlying vector store. Anticipating the uncertain trajectory of vector store solutions, we're exercising caution and refraining from fully committing to any particular data store solution at this point.\n",
    "\n",
    "For now, we will stick to [Qdrant](https://qdrant.tech/) for our competitive debate demos as [Clickhouse](https://clickhouse.com/)'s [annoy index](https://clickhouse.com/docs/en/engines/table-engines/mergetree-family/annindexes) is too imprecise to be viable.\n",
    "\n",
    "However, it is important to note that Clickhouse wins out on pure speed and can be the right choice for datasets characterized by substantial sparsity or considerable size. We may use Clickhouse for future customer deployments when it makes sense to do so.\n",
    "\n",
    "### Replicating our results\n",
    "\n",
    "1. Download the dataset via [this link](https://drive.proton.me/urls/FED1ABWG70#ItjHZqiPpUao). This is roughly the [DebateSum dataset](https://aclanthology.org/2020.argmining-1.1/), but with some improved parsing loggic and dedup detection as noted on [our docs](https://docs.arguflow.ai).\n",
    "2. Place the dataset into the same directory as this notebook\n",
    "3. `docker compose up -d`\n",
    "4. `cat .env.dist > .env`\n",
    "4. Run all to duplicate our findings"
   ]
  },
  {
   "cell_type": "code",
   "execution_count": 1,
   "metadata": {},
   "outputs": [
    {
     "name": "stderr",
     "output_type": "stream",
     "text": [
      "/usr/local/lib/python3.10/dist-packages/qdrant_client/qdrant_remote.py:115: UserWarning: Api key is used with unsecure connection.\n",
      "  warnings.warn(\"Api key is used with unsecure connection.\")\n"
     ]
    },
    {
     "data": {
      "text/plain": [
       "True"
      ]
     },
     "execution_count": 1,
     "metadata": {},
     "output_type": "execute_result"
    }
   ],
   "source": [
    "import os\n",
    "from dotenv import load_dotenv\n",
    "from qdrant_client import QdrantClient\n",
    "from qdrant_client.http import models\n",
    "\n",
    "# Load values from the .env file\n",
    "load_dotenv()\n",
    "\n",
    "# Get values from the environment variables\n",
    "qdrant_url = os.getenv(\"QDRANT_URL\")\n",
    "qdrant_api_key = os.getenv(\"QDRANT_API_KEY\")\n",
    "\n",
    "# Create the QdrantClient instance\n",
    "qdrant_client = QdrantClient(\n",
    "    url=qdrant_url,\n",
    "    api_key=qdrant_api_key,\n",
    ")\n",
    "\n",
    "qdrant_client.recreate_collection(\n",
    "    collection_name=\"debate_cards\",\n",
    "    vectors_config=models.VectorParams(size=1536, distance=models.Distance.COSINE),\n",
    ")"
   ]
  },
  {
   "cell_type": "code",
   "execution_count": 7,
   "metadata": {},
   "outputs": [
    {
     "name": "stdout",
     "output_type": "stream",
     "text": [
      "PostgreSQL Server Version: PostgreSQL 15.4 (Debian 15.4-1.pgdg120+1) on x86_64-pc-linux-gnu, compiled by gcc (Debian 12.2.0-14) 12.2.0, 64-bit\n"
     ]
    }
   ],
   "source": [
    "import psycopg2\n",
    "\n",
    "db_params = {\n",
    "    'host': 'localhost',           # Use the hostname or IP address of your Docker host\n",
    "    'database': 'vault',\n",
    "    'user': 'postgres',\n",
    "    'password': 'password',\n",
    "    'port': 5432                   # The default PostgreSQL port\n",
    "}\n",
    "\n",
    "connection = psycopg2.connect(**db_params)\n",
    "cursor = connection.cursor()\n",
    "cursor.execute(\"SELECT version()\")\n",
    "server_version = cursor.fetchone()[0]\n",
    "\n",
    "print(f\"PostgreSQL Server Version: {server_version}\")"
   ]
  },
  {
   "cell_type": "code",
   "execution_count": 5,
   "metadata": {},
   "outputs": [
    {
     "data": {
      "text/plain": [
       "'23.9.1.135'"
      ]
     },
     "execution_count": 5,
     "metadata": {},
     "output_type": "execute_result"
    }
   ],
   "source": [
    "import clickhouse_connect\n",
    "\n",
    "clickhouse_client = clickhouse_connect.get_client()\n",
    "clickhouse_client.server_version"
   ]
  },
  {
   "cell_type": "code",
   "execution_count": 6,
   "metadata": {},
   "outputs": [
    {
     "ename": "",
     "evalue": "",
     "output_type": "error",
     "traceback": [
      "\u001b[1;31mCannot execute code, session has been disposed. Please try restarting the Kernel."
     ]
    },
    {
     "ename": "",
     "evalue": "",
     "output_type": "error",
     "traceback": [
      "\u001b[1;31mThe Kernel crashed while executing code in the the current cell or a previous cell. Please review the code in the cell(s) to identify a possible cause of the failure. Click <a href='https://aka.ms/vscodeJupyterKernelCrash'>here</a> for more info. View Jupyter <a href='command:jupyter.viewOutput'>log</a> for further details."
     ]
    }
   ],
   "source": [
    "import pickle\n",
    "\n",
    "# Load the dataset from the pickle file\n",
    "pickle_filename = \"dataset.pickle\"\n",
    "with open(pickle_filename, \"rb\") as pickle_file:\n",
    "    loaded_dataset = pickle.load(pickle_file)\n"
   ]
  },
  {
   "cell_type": "code",
   "execution_count": 4,
   "metadata": {},
   "outputs": [
    {
     "data": {
      "text/plain": [
       "CountResult(count=255070)"
      ]
     },
     "execution_count": 4,
     "metadata": {},
     "output_type": "execute_result"
    }
   ],
   "source": [
    "qdrant_count = qdrant_client.count(\n",
    "    collection_name=\"debate_cards\",\n",
    "    exact=True,\n",
    ")\n",
    "\n",
    "if qdrant_count.count > 0:\n",
    "    print(\"Collection is not empty, exiting\")\n",
    "else:\n",
    "    # add to qdrant 1k at a time\n",
    "    for i in range(0, len(loaded_dataset), 1000):\n",
    "        qdrant_client.upsert(\n",
    "            collection_name=\"debate_cards\",\n",
    "            points=models.Batch(\n",
    "                ids=[item[0] for item in loaded_dataset[i:i+1000]],\n",
    "                vectors=[item[1] for item in loaded_dataset[i:i+1000]]\n",
    "            ),\n",
    "        )\n",
    "\n",
    "qdrant_client.count(\n",
    "    collection_name=\"debate_cards\",\n",
    "    exact=True,\n",
    ")"
   ]
  },
  {
   "cell_type": "code",
   "execution_count": 5,
   "metadata": {},
   "outputs": [],
   "source": [
    "delete_table_query = \"\"\"\n",
    "DROP TABLE IF EXISTS qdrant_point_ids\n",
    "\"\"\"\n",
    "\n",
    "clickhouse_client.query(delete_table_query)\n",
    "\n",
    "create_table_query = \"\"\"\n",
    "CREATE TABLE IF NOT EXISTS qdrant_point_ids\n",
    "(\n",
    "    `point_id` String,\n",
    "    `embedding_vector` Array(Float32),\n",
    ")\n",
    "ENGINE = MergeTree\n",
    "ORDER BY point_id\n",
    "\"\"\"\n",
    "\n",
    "clickhouse_client.query(create_table_query)\n",
    "\n",
    "offset = \"\"\n",
    "\n",
    "while offset is not None:\n",
    "    scroll_result = qdrant_client.scroll(\n",
    "        collection_name=\"debate_cards\",\n",
    "        limit=100,\n",
    "        with_vectors=True,\n",
    "        offset=(offset if offset else None),\n",
    "    )\n",
    "\n",
    "    offset = scroll_result[1]\n",
    "\n",
    "    insert_found_points_query = \"\"\"\n",
    "        INSERT INTO qdrant_point_ids\n",
    "        VALUES\n",
    "        \"\"\"\n",
    "    \n",
    "    for point in scroll_result[0]:\n",
    "        insert_found_points_query += f\"('{point.id}', {point.vector}),\"\n",
    "\n",
    "    clickhouse_client.query(insert_found_points_query)"
   ]
  },
  {
   "cell_type": "code",
   "execution_count": 6,
   "metadata": {},
   "outputs": [],
   "source": [
    "import time\n",
    "\n",
    "\n",
    "base_count = 0\n",
    "while base_count != 255070:\n",
    "    get_qdrant_point_ids_count_query = \"\"\"\n",
    "    SELECT COUNT(*)\n",
    "    FROM qdrant_point_ids\n",
    "    \"\"\"\n",
    "    base_count = clickhouse_client.query(get_qdrant_point_ids_count_query).result_rows[0][0]\n",
    "\n",
    "    time.sleep(1)\n",
    "\n",
    "#no longer needed\n",
    "ch_tables = [1, 10, 100]\n",
    "\n",
    "allow_experimental_indexes_query = \"\"\"\n",
    "SET allow_experimental_usearch_index = 1\n",
    "\"\"\"\n",
    "\n",
    "clickhouse_client.query(allow_experimental_indexes_query)\n",
    "\n",
    "for ch_table in ch_tables:\n",
    "    drop_table_query = f\"\"\"\n",
    "    DROP TABLE IF EXISTS qdrant_benchmark_{ch_table}\n",
    "    \"\"\"\n",
    "    clickhouse_client.query(drop_table_query)\n",
    "\n",
    "    create_table_query = f\"\"\"\n",
    "    CREATE TABLE IF NOT EXISTS qdrant_benchmark_{ch_table} (\n",
    "        `point_id` String,\n",
    "        `embedding_vector` Array(Float32),\n",
    "        INDEX usearch_embedding_vector embedding_vector TYPE usearch('cosineDistance') GRANULARITY {ch_table},\n",
    "    )\n",
    "    ENGINE = MergeTree()\n",
    "    ORDER BY point_id\n",
    "    \"\"\"\n",
    "    clickhouse_client.query(create_table_query)\n",
    "\n",
    "    insert_points_query = f\"\"\"\n",
    "    INSERT INTO qdrant_benchmark_{ch_table}\n",
    "    SELECT * FROM qdrant_point_ids\n",
    "    \"\"\"\n",
    "\n",
    "    clickhouse_client.query(insert_points_query)"
   ]
  },
  {
   "cell_type": "code",
   "execution_count": 7,
   "metadata": {},
   "outputs": [],
   "source": [
    "#no longer needed\n",
    "for ch_table in ch_tables:\n",
    "    temp_count = 0\n",
    "    while temp_count != base_count:\n",
    "        get_qdrant_point_ids_count_query = f\"\"\"\n",
    "        SELECT COUNT(*)\n",
    "        FROM qdrant_benchmark_{ch_table}\n",
    "        \"\"\"\n",
    "        temp_count = clickhouse_client.query(get_qdrant_point_ids_count_query).result_rows[0][0]\n",
    "\n",
    "        time.sleep(1)"
   ]
  },
  {
   "cell_type": "code",
   "execution_count": 8,
   "metadata": {},
   "outputs": [],
   "source": [
    "scroll_result = qdrant_client.scroll(\n",
    "    collection_name=\"debate_cards\",\n",
    "    limit=100,\n",
    "    with_vectors=True,\n",
    ")\n",
    "\n",
    "first_100_qdrant_vectors = [point.vector for point in scroll_result[0]]"
   ]
  },
  {
   "cell_type": "code",
   "execution_count": 9,
   "metadata": {},
   "outputs": [
    {
     "data": {
      "text/plain": [
       "[('00005fed-cfc0-4845-b863-b71550463e24', 6.661338147750939e-16),\n",
       " ('561ae8a9-af13-4a75-a49f-ce5c38c442ce', 0.09384958430465218),\n",
       " ('6af30e7e-4b4a-46f8-a5ac-27c502367b90', 0.09455519938155399),\n",
       " ('ae71d2e9-2c31-41a1-923c-1b2d487ad5e9', 0.09728590540364213),\n",
       " ('c0c1de4f-2f48-45ae-aeeb-861625d7f8f5', 0.09767863989325387),\n",
       " ('34b046c8-1014-4db8-8166-4d9b21ef19d5', 0.0984510923652957),\n",
       " ('03159369-1895-466c-af24-15bf5a71235a', 0.09988406883102985),\n",
       " ('11505385-5c48-4cff-8328-b54607366e26', 0.1013558591439363),\n",
       " ('0363b7cd-a2b3-4b17-8221-25c9122f00b2', 0.10613860696552413),\n",
       " ('89cbabad-b8f7-42e0-8f5c-dede8082d392', 0.10674358070526502)]"
      ]
     },
     "execution_count": 9,
     "metadata": {},
     "output_type": "execute_result"
    }
   ],
   "source": [
    "first_vector = first_100_qdrant_vectors[0]\n",
    "\n",
    "ch_mid_cosine_similarity_query = f\"\"\"\n",
    "        SELECT\n",
    "            point_id,\n",
    "            cosineDistance(embedding_vector, {first_vector}) AS score\n",
    "        FROM qdrant_benchmark_10\n",
    "        ORDER BY score ASC\n",
    "        LIMIT 10\n",
    "        \"\"\"\n",
    "\n",
    "clickhouse_client.query(ch_mid_cosine_similarity_query).result_rows"
   ]
  },
  {
   "cell_type": "code",
   "execution_count": 10,
   "metadata": {},
   "outputs": [],
   "source": [
    "import numpy as np\n",
    "import timeit\n",
    "\n",
    "qdrant_search_times = []\n",
    "ch_qdrant_point_ids_search_times = []\n",
    "ch_benchmark_search_times = {}\n",
    "for ch_table in ch_tables:\n",
    "    ch_benchmark_search_times[ch_table] = []\n",
    "\n",
    "\n",
    "for i in range(100):\n",
    "    query_vector = np.random.rand(1536).astype(np.float32).tolist()\n",
    "\n",
    "    for ch_table in ch_tables:\n",
    "        ch_mid_cosine_similarity_query = f\"\"\"\n",
    "        SELECT\n",
    "            point_id,\n",
    "            cosineDistance(embedding_vector, {query_vector}) AS score\n",
    "        FROM qdrant_benchmark_{ch_table}\n",
    "        ORDER BY score ASC\n",
    "        LIMIT 10\n",
    "        \"\"\"\n",
    "\n",
    "        ch_benchmark_search_times[ch_table].append(timeit.timeit(lambda: clickhouse_client.query(ch_mid_cosine_similarity_query), number=1))\n",
    "\n",
    "    ch_qdrant_point_id_query = f\"\"\"\n",
    "    SELECT\n",
    "        point_id,\n",
    "        cosineDistance(embedding_vector, {query_vector}) AS score\n",
    "    FROM qdrant_point_ids\n",
    "    ORDER BY score ASC\n",
    "    LIMIT 10\n",
    "    \"\"\"\n",
    "    ch_qdrant_point_ids_search_times.append(timeit.timeit(lambda: clickhouse_client.query(ch_qdrant_point_id_query), number=1))\n",
    "\n",
    "    qdrant_search_times.append(timeit.timeit(lambda: qdrant_client.search(collection_name=\"debate_cards\", query_vector=query_vector, limit=10, search_params={\"exact\": True}), number=1))\n",
    "\n",
    "    "
   ]
  },
  {
   "cell_type": "code",
   "execution_count": 11,
   "metadata": {},
   "outputs": [
    {
     "data": {
      "image/png": "[encoded data removed]",
      "text/plain": [
       "<Figure size 640x480 with 1 Axes>"
      ]
     },
     "metadata": {},
     "output_type": "display_data"
    }
   ],
   "source": [
    "# plot the results\n",
    "\n",
    "import matplotlib.pyplot as plt\n",
    "\n",
    "for ch_table in ch_tables:\n",
    "    plt.plot(ch_benchmark_search_times[ch_table], label=f\"ClickHouse gran {ch_table}\")\n",
    "\n",
    "plt.plot(ch_qdrant_point_ids_search_times, label=\"ClickHouse no index\")\n",
    "plt.plot(qdrant_search_times, label=\"Qdrant\")\n",
    "\n",
    "plt.xlabel(\"Search number\")\n",
    "plt.ylabel(\"Search time (s)\")\n",
    "plt.legend()\n",
    "plt.show()"
   ]
  },
  {
   "cell_type": "code",
   "execution_count": 12,
   "metadata": {},
   "outputs": [
    {
     "name": "stdout",
     "output_type": "stream",
     "text": [
      "ClickHouse no index avg search time: 0.3848514598194743s\n",
      "ClickHouse no index max search time: 0.4841100390185602s\n",
      "ClickHouse no index min search time: 0.36708716896828264s\n",
      "Qdrant avg search time: 0.06445666696759872s\n",
      "Qdrant max search time: 0.06592152494704351s\n",
      "Qdrant min search time: 0.06282151298364624s\n",
      "ClickHouse 1 avg search time: 0.8424794271984137s\n",
      "ClickHouse 1 max search time: 1.132948489044793s\n",
      "ClickHouse 1 min search time: 0.8090874889749102s\n",
      "ClickHouse 10 avg search time: 0.6162429533223621s\n",
      "ClickHouse 10 max search time: 0.6449962719925679s\n",
      "ClickHouse 10 min search time: 0.5852355810347944s\n",
      "ClickHouse 100 avg search time: 0.5669281100016087s\n",
      "ClickHouse 100 max search time: 0.5991650649812073s\n",
      "ClickHouse 100 min search time: 0.5392437219852582s\n"
     ]
    }
   ],
   "source": [
    "# Get avg, max, min search time for ClickHouse\n",
    "[ch_avg_search_time, ch_max_search_time, ch_min_search_time] = [np.mean(ch_qdrant_point_ids_search_times), np.max(ch_qdrant_point_ids_search_times), np.min(ch_qdrant_point_ids_search_times)]\n",
    "# Get avg, max, min search time for Qdrant\n",
    "[qdrant_avg_search_time, qdrant_max_search_time, qdrant_min_search_time] = [np.mean(qdrant_search_times), np.max(qdrant_search_times), np.min(qdrant_search_times)]\n",
    "\n",
    "# Display the results\n",
    "print(f\"ClickHouse no index avg search time: {ch_avg_search_time}s\")\n",
    "print(f\"ClickHouse no index max search time: {ch_max_search_time}s\")\n",
    "print(f\"ClickHouse no index min search time: {ch_min_search_time}s\")\n",
    "\n",
    "print(f\"Qdrant avg search time: {qdrant_avg_search_time}s\")\n",
    "print(f\"Qdrant max search time: {qdrant_max_search_time}s\")\n",
    "print(f\"Qdrant min search time: {qdrant_min_search_time}s\")\n",
    "\n",
    "for ch_table in ch_tables:\n",
    "    print(f\"ClickHouse {ch_table} avg search time: {np.mean(ch_benchmark_search_times[ch_table])}s\")\n",
    "    print(f\"ClickHouse {ch_table} max search time: {np.max(ch_benchmark_search_times[ch_table])}s\")\n",
    "    print(f\"ClickHouse {ch_table} min search time: {np.min(ch_benchmark_search_times[ch_table])}s\")"
   ]
  },
  {
   "cell_type": "code",
   "execution_count": 13,
   "metadata": {},
   "outputs": [],
   "source": [
    "no_index_results = []\n",
    "qdrant_results = []\n",
    "ch_benchmark_results = {}\n",
    "for ch_table in ch_tables:\n",
    "    ch_benchmark_results[ch_table] = []\n",
    "\n",
    "for i in range(100):\n",
    "    query_vector = first_100_qdrant_vectors[i]\n",
    "\n",
    "    ch_no_index_query = f\"\"\"\n",
    "    SELECT\n",
    "        point_id,\n",
    "        cosineDistance(embedding_vector, {query_vector}) AS score\n",
    "    FROM qdrant_point_ids\n",
    "    ORDER BY score ASC\n",
    "    LIMIT 100\n",
    "    \"\"\"\n",
    "\n",
    "    ch_no_index_temp = clickhouse_client.query(ch_no_index_query).result_rows\n",
    "    ch_no_index_ids = [result[0] for result in ch_no_index_temp]\n",
    "    no_index_results.append(ch_no_index_ids)\n",
    "\n",
    "    qdrant_results_temp = qdrant_client.search(collection_name=\"debate_cards\", query_vector=query_vector, limit=10, with_vectors=False, search_params={\"exact\": True})\n",
    "    qdrant_ids = [result.id for result in qdrant_results_temp]\n",
    "    qdrant_results.append(qdrant_ids)\n",
    "\n",
    "    base_ids = []\n",
    "\n",
    "    for ch_table in ch_tables:\n",
    "        ch_benchmark_query = f\"\"\"\n",
    "        SELECT\n",
    "            point_id,\n",
    "            cosineDistance(embedding_vector, {query_vector}) AS score\n",
    "        FROM qdrant_benchmark_{ch_table}\n",
    "        ORDER BY score ASC\n",
    "        LIMIT 100\n",
    "        \"\"\"\n",
    "\n",
    "        ch_index_temp = clickhouse_client.query(ch_benchmark_query)\n",
    "        ch_index_ids = [result[0] for result in ch_index_temp.result_rows]\n",
    "        ch_benchmark_results[ch_table].append(ch_index_ids)"
   ]
  },
  {
   "cell_type": "code",
   "execution_count": 14,
   "metadata": {},
   "outputs": [
    {
     "name": "stdout",
     "output_type": "stream",
     "text": [
      "ClickHouse 1 avg shift: 4.5\n",
      "ClickHouse 1 max shift: 9\n",
      "ClickHouse 1 min shift: 0\n",
      "ClickHouse 1 std shift: 2.8722813232690143\n",
      "ClickHouse 10 avg shift: 62.831\n",
      "ClickHouse 10 max shift: 100\n",
      "ClickHouse 10 min shift: 0\n",
      "ClickHouse 10 std shift: 47.6877179051378\n",
      "ClickHouse 100 avg shift: 69.896\n",
      "ClickHouse 100 max shift: 100\n",
      "ClickHouse 100 min shift: 0\n",
      "ClickHouse 100 std shift: 45.44800528076012\n"
     ]
    }
   ],
   "source": [
    "ch_benchmark_result_shifts = {}\n",
    "for ch_table in ch_tables:\n",
    "    ch_benchmark_result_shifts[ch_table] = []\n",
    "\n",
    "\n",
    "idx = 0\n",
    "qdrant_result_idx = 0\n",
    "for top_10 in qdrant_results:\n",
    "    top_10_idx = 0\n",
    "    for item in top_10:\n",
    "        for ch_table in ch_tables:\n",
    "            if item in ch_benchmark_results[ch_table][qdrant_result_idx]:\n",
    "                index_of_item = ch_benchmark_results[ch_table][qdrant_result_idx].index(item)\n",
    "                ch_benchmark_result_shifts[ch_table].append(abs(index_of_item - top_10_idx))\n",
    "            else:\n",
    "                ch_benchmark_result_shifts[ch_table].append(100)\n",
    "        idx += 1\n",
    "    \n",
    "    qdrant_result_idx += 1\n",
    "\n",
    "\n",
    "# print avg, max, min, std of shifts\n",
    "for ch_table in ch_tables:\n",
    "    print(f\"ClickHouse {ch_table} avg shift: {np.mean(ch_benchmark_result_shifts[ch_table])}\")\n",
    "    print(f\"ClickHouse {ch_table} max shift: {np.max(ch_benchmark_result_shifts[ch_table])}\")\n",
    "    print(f\"ClickHouse {ch_table} min shift: {np.min(ch_benchmark_result_shifts[ch_table])}\")\n",
    "    print(f\"ClickHouse {ch_table} std shift: {np.std(ch_benchmark_result_shifts[ch_table])}\")"
   ]
  }
 ],
 "metadata": {
  "kernelspec": {
   "display_name": "Python 3 (ipykernel)",
   "language": "python",
   "name": "python3"
  },
  "language_info": {
   "codemirror_mode": {
    "name": "ipython",
    "version": 3
   },
   "file_extension": ".py",
   "mimetype": "text/x-python",
   "name": "python",
   "nbconvert_exporter": "python",
   "pygments_lexer": "ipython3",
   "version": "3.10.12"
  }
 },
 "nbformat": 4,
 "nbformat_minor": 4
}
